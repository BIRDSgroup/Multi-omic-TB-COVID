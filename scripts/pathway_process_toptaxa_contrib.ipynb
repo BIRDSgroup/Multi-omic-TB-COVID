{
 "cells": [
  {
   "cell_type": "code",
   "execution_count": 42,
   "id": "ed26f9a0",
   "metadata": {},
   "outputs": [],
   "source": [
    "import pandas as pd\n",
    "pwys=pd.read_csv(\"../picrust_analysis/TBTBCOVID/TBTBCOVID.csv\",delimiter=\"^\")\n",
    "df = pd.DataFrame(columns=['Readcount', 'Genus/Species'])\n",
    "\n",
    "for i in range(0,len(pwys)):\n",
    "    pwy_name=pwys.iloc[i].values[0].rstrip()\n",
    "    filename1=\"../picrust_analysis/TBTBCOVID/TBTBCOVID_\"+pwy_name+\".txt\"\n",
    "    filename1=filename1.lstrip()\n",
    "    file1=pd.read_csv(filename1,header=None,delimiter=\" \")\n",
    "    file1=file1.sort_values(by=[0], ascending=False)\n",
    "    file1[1] = file1[1].str.extract(r'(g__.*)', expand=False)\n",
    "    file1[1] = file1[1].str.replace('g__', '', regex=False)\n",
    "    file1[1] = file1[1].str.replace(';s__', ' ', regex=False)\n",
    "    file1 = file1.rename(columns={0: 'Readcount',1: 'Genus/Species'})\n",
    "    file1.to_csv(\"../picrust_analysis/TBTBCOVID/\"+pwy_name+\".txt\",index=False)\n",
    "    file1_sub=file1.iloc[0:10]\n",
    "    file1_sub=file1_sub[file1_sub['Readcount']>=30]\n",
    "    \n",
    "    df = pd.concat([df, file1_sub], ignore_index=True)\n",
    "    \n",
    "    \n",
    "    "
   ]
  },
  {
   "cell_type": "code",
   "execution_count": 43,
   "id": "a1c6b4fb",
   "metadata": {},
   "outputs": [],
   "source": [
    "name_counts = df['Genus/Species'].value_counts()"
   ]
  },
  {
   "cell_type": "code",
   "execution_count": 44,
   "id": "d36defa4",
   "metadata": {
    "scrolled": true
   },
   "outputs": [
    {
     "data": {
      "text/plain": [
       "Genus/Species\n",
       "Escherichia coli                19\n",
       "Neisseria                       14\n",
       "Lautropia mirabilis             14\n",
       "Mycobacterium tuberculosis      11\n",
       "Haemophilus                      9\n",
       "Haemophilus parainfluenzae       8\n",
       "Stenotrophomonas maltophilia     6\n",
       "Actinomyces                      6\n",
       "Eikenella corrodens              5\n",
       "Prevotella                       5\n",
       "Selenomonas                      4\n",
       "Selenomonas sputigena            4\n",
       "Veillonella                      4\n",
       "Prevotella melaninogenica        4\n",
       "Selenomonas sp._HMT_501          3\n",
       "Veillonella parvula              3\n",
       "Streptococcus                    3\n",
       "Porphyromonas sp._HMT_285        2\n",
       "Alloprevotella rava              2\n",
       "Prevotella pallens               1\n",
       "Prevotella salivae               1\n",
       "Granulicatella adiacens          1\n",
       "Schaalia                         1\n",
       "Gemella                          1\n",
       "Rothia mucilaginosa              1\n",
       "Prevotella oris                  1\n",
       "Corynebacterium                  1\n",
       "Fusobacterium                    1\n",
       "Porphyromonas                    1\n",
       "Veillonella rogosae              1\n",
       "Actinomyces graevenitzii         1\n",
       "Abiotrophia defectiva            1\n",
       "Bifidobacterium dentium          1\n",
       "Prevotella nanceiensis           1\n",
       "Campylobacter concisus           1\n",
       "Name: count, dtype: int64"
      ]
     },
     "execution_count": 44,
     "metadata": {},
     "output_type": "execute_result"
    }
   ],
   "source": [
    "name_counts"
   ]
  }
 ],
 "metadata": {
  "kernelspec": {
   "display_name": "Python 3 (ipykernel)",
   "language": "python",
   "name": "python3"
  },
  "language_info": {
   "codemirror_mode": {
    "name": "ipython",
    "version": 3
   },
   "file_extension": ".py",
   "mimetype": "text/x-python",
   "name": "python",
   "nbconvert_exporter": "python",
   "pygments_lexer": "ipython3",
   "version": "3.8.13"
  }
 },
 "nbformat": 4,
 "nbformat_minor": 5
}
